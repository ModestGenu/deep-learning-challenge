{
  "cells": [
    {
      "cell_type": "code",
      "execution_count": 1,
      "metadata": {
        "id": "QYwOgN7Ri6SW"
      },
      "outputs": [],
      "source": [
        "# Import our dependencies\n",
        "from sklearn.model_selection import train_test_split\n",
        "from sklearn.preprocessing import StandardScaler\n",
        "import pandas as pd\n",
        "import tensorflow as tf\n",
        "\n",
        "#  Import and read the charity_data.csv.\n",
        "import pandas as pd\n",
        "applications_df = pd.read_csv(\"https://static.bc-edx.com/data/dl-1-2/m21/lms/starter/charity_data.csv\")\n"
      ]
    },
    {
      "cell_type": "code",
      "execution_count": 2,
      "metadata": {
        "colab": {
          "base_uri": "https://localhost:8080/"
        },
        "id": "YeTJZY6hv14W",
        "outputId": "0028e9e0-3ac0-41a2-efd6-b0642b9d2107"
      },
      "outputs": [
        {
          "output_type": "execute_result",
          "data": {
            "text/plain": [
              "EIN                       34299\n",
              "NAME                      19568\n",
              "APPLICATION_TYPE             17\n",
              "AFFILIATION                   6\n",
              "CLASSIFICATION               71\n",
              "USE_CASE                      5\n",
              "ORGANIZATION                  4\n",
              "STATUS                        2\n",
              "INCOME_AMT                    9\n",
              "SPECIAL_CONSIDERATIONS        2\n",
              "ASK_AMT                    8747\n",
              "IS_SUCCESSFUL                 2\n",
              "dtype: int64"
            ]
          },
          "metadata": {},
          "execution_count": 2
        }
      ],
      "source": [
        "# how many unique values does each column have?\n",
        "applications_df.nunique()"
      ]
    },
    {
      "cell_type": "code",
      "execution_count": 3,
      "metadata": {
        "colab": {
          "base_uri": "https://localhost:8080/"
        },
        "id": "cWLMmMTDwQsQ",
        "outputId": "b6070b04-4d33-44dc-8995-1bd1fccb2776"
      },
      "outputs": [
        {
          "output_type": "execute_result",
          "data": {
            "text/plain": [
              "AFFILIATION\n",
              "Independent         18480\n",
              "CompanySponsored    15705\n",
              "Name: count, dtype: int64"
            ]
          },
          "metadata": {},
          "execution_count": 3
        }
      ],
      "source": [
        "# try to determine which columns could create a good model\n",
        "name = applications_df['NAME'].value_counts()\n",
        "name[name>40]\n",
        "classification = applications_df['CLASSIFICATION'].value_counts()\n",
        "classification[classification>100]\n",
        "use_case = applications_df['USE_CASE'].value_counts()\n",
        "use_case[use_case>100]\n",
        "organization= applications_df['ORGANIZATION'].value_counts()\n",
        "organization[organization>100]\n",
        "income=applications_df['INCOME_AMT'].value_counts()\n",
        "income[income>1000]\n",
        "#con =applications_df['SPECIAL_CONSIDERATIONS'].value_counts()\n",
        "#con[con>100]\n",
        "ask = applications_df['ASK_AMT'].value_counts()\n",
        "ask[ask<2]\n",
        "active = applications_df['STATUS'].value_counts()\n",
        "active[active>10]\n",
        "succ= applications_df['IS_SUCCESSFUL'].value_counts()\n",
        "#EIN = applications_df['EIN'].value_counts()\n",
        "types = applications_df['APPLICATION_TYPE'].value_counts()\n",
        "types[types>1000]\n",
        "aff = applications_df['AFFILIATION'].value_counts()\n",
        "aff[aff>100]\n"
      ]
    },
    {
      "cell_type": "code",
      "execution_count": 4,
      "metadata": {
        "id": "B87ruzoxu7xT"
      },
      "outputs": [],
      "source": [
        "# Drop the non-beneficial ID columns, 'EIN' and 'AFFILIATION'  EIN\", \"AFFILIATION\", \"ORGANIZATION\",\n",
        "applications_df =  applications_df.drop(columns=[ \"SPECIAL_CONSIDERATIONS\", \"EIN\", \"NAME\"])\n",
        "\n",
        "#cutoff values in columns according to findings\n",
        "class_delete = list(classification[classification<100].index)\n",
        "case_delete = list(use_case[use_case<100].index)\n",
        "org_delete = list(organization[organization<100].index)\n",
        "income_delete = list(income[income<1000].index)\n",
        "#con_delete = list(con[con<100].index)\n",
        "active_delete = list(active[active<10].index)\n",
        "type_delete = list(types[types<1000].index)\n",
        "aff_delete = list(aff[aff<100].index)\n",
        "ask_delete = list(ask[ask>2].index)\n",
        "#name_delete = list(name[name<100])"
      ]
    },
    {
      "cell_type": "code",
      "execution_count": 5,
      "metadata": {
        "id": "JD9grGxmL2nu"
      },
      "outputs": [],
      "source": [
        "for cla in class_delete:\n",
        "    applications_df['CLASSIFICATION'] = applications_df['CLASSIFICATION'].replace(cla,\"Other\")\n",
        "#for na in name_delete:\n",
        " #   applications_df['NAME'] = applications_df['NAME'].replace(na,\"Other\")\n",
        "for a in ask_delete:\n",
        "    applications_df['ASK_AMT'] = applications_df['ASK_AMT'].replace(a,\"Other\")\n",
        "for cas in case_delete:\n",
        "    applications_df['USE_CASE'] = applications_df['USE_CASE'].replace(cas,\"Other\")\n",
        "#for org in case_delete:\n",
        "#    applications_df['ORGANIZATION'] = applications_df['ORGANIZATION'].replace(org,\"Other\")\n",
        "for inc in income_delete:\n",
        "    applications_df['INCOME_AMT'] = applications_df['INCOME_AMT'].replace(inc,\"Other\")\n",
        "#for cons in con_delete:\n",
        "#    applications_df['SPECIAL_CONSIDERATIONS'] = applications_df['SPECIAL_CONSIDERATIONS'].replace(cons,\"Other\")\n",
        "for inc in active_delete:\n",
        "    applications_df['STATUS'] = applications_df['STATUS'].replace(inc,\"Other\")\n",
        "for types in type_delete:\n",
        "    applications_df['APPLICATION_TYPE'] = applications_df['APPLICATION_TYPE'].replace(types,\"Other\")\n",
        "#for aff in aff_delete:\n",
        "#    applications_df['AFFILIATION'] = applications_df['AFFILIATION'].replace(aff,\"Other\")"
      ]
    },
    {
      "cell_type": "code",
      "execution_count": 6,
      "metadata": {
        "colab": {
          "base_uri": "https://localhost:8080/"
        },
        "id": "BNvLxYJkSKUW",
        "outputId": "d9a0d7fd-c329-483e-f9d4-bd97f9601840"
      },
      "outputs": [
        {
          "output_type": "execute_result",
          "data": {
            "text/plain": [
              "APPLICATION_TYPE       6\n",
              "AFFILIATION            6\n",
              "CLASSIFICATION        12\n",
              "USE_CASE               5\n",
              "ORGANIZATION           4\n",
              "STATUS                 2\n",
              "INCOME_AMT             4\n",
              "ASK_AMT             8743\n",
              "IS_SUCCESSFUL          2\n",
              "dtype: int64"
            ]
          },
          "metadata": {},
          "execution_count": 6
        }
      ],
      "source": [
        "#check how many unique values are left\n",
        "applications_df.nunique()\n"
      ]
    },
    {
      "cell_type": "code",
      "execution_count": 7,
      "metadata": {
        "colab": {
          "base_uri": "https://localhost:8080/",
          "height": 256
        },
        "id": "qNaJBkbxUuDB",
        "outputId": "0952e36d-ac54-4d12-b248-2dc61c914371"
      },
      "outputs": [
        {
          "output_type": "execute_result",
          "data": {
            "text/plain": [
              "   IS_SUCCESSFUL  APPLICATION_TYPE_Other  APPLICATION_TYPE_T19  \\\n",
              "0              1                    True                 False   \n",
              "1              1                   False                 False   \n",
              "2              0                   False                 False   \n",
              "3              1                   False                 False   \n",
              "4              1                   False                 False   \n",
              "\n",
              "   APPLICATION_TYPE_T3  APPLICATION_TYPE_T4  APPLICATION_TYPE_T5  \\\n",
              "0                False                False                False   \n",
              "1                 True                False                False   \n",
              "2                False                False                 True   \n",
              "3                 True                False                False   \n",
              "4                 True                False                False   \n",
              "\n",
              "   APPLICATION_TYPE_T6  AFFILIATION_CompanySponsored  \\\n",
              "0                False                         False   \n",
              "1                False                         False   \n",
              "2                False                          True   \n",
              "3                False                          True   \n",
              "4                False                         False   \n",
              "\n",
              "   AFFILIATION_Family/Parent  AFFILIATION_Independent  ...  \\\n",
              "0                      False                     True  ...   \n",
              "1                      False                     True  ...   \n",
              "2                      False                    False  ...   \n",
              "3                      False                    False  ...   \n",
              "4                      False                     True  ...   \n",
              "\n",
              "   ASK_AMT_1736232349  ASK_AMT_1893400128  ASK_AMT_2264109450  \\\n",
              "0               False               False               False   \n",
              "1               False               False               False   \n",
              "2               False               False               False   \n",
              "3               False               False               False   \n",
              "4               False               False               False   \n",
              "\n",
              "   ASK_AMT_2310256039  ASK_AMT_3391919220  ASK_AMT_4653011914  \\\n",
              "0               False               False               False   \n",
              "1               False               False               False   \n",
              "2               False               False               False   \n",
              "3               False               False               False   \n",
              "4               False               False               False   \n",
              "\n",
              "   ASK_AMT_5591584994  ASK_AMT_8556638692  ASK_AMT_8597806340  ASK_AMT_Other  \n",
              "0               False               False               False           True  \n",
              "1               False               False               False          False  \n",
              "2               False               False               False           True  \n",
              "3               False               False               False          False  \n",
              "4               False               False               False          False  \n",
              "\n",
              "[5 rows x 8783 columns]"
            ],
            "text/html": [
              "\n",
              "  <div id=\"df-13a31f51-ccf1-43d4-90f3-d8266a862380\" class=\"colab-df-container\">\n",
              "    <div>\n",
              "<style scoped>\n",
              "    .dataframe tbody tr th:only-of-type {\n",
              "        vertical-align: middle;\n",
              "    }\n",
              "\n",
              "    .dataframe tbody tr th {\n",
              "        vertical-align: top;\n",
              "    }\n",
              "\n",
              "    .dataframe thead th {\n",
              "        text-align: right;\n",
              "    }\n",
              "</style>\n",
              "<table border=\"1\" class=\"dataframe\">\n",
              "  <thead>\n",
              "    <tr style=\"text-align: right;\">\n",
              "      <th></th>\n",
              "      <th>IS_SUCCESSFUL</th>\n",
              "      <th>APPLICATION_TYPE_Other</th>\n",
              "      <th>APPLICATION_TYPE_T19</th>\n",
              "      <th>APPLICATION_TYPE_T3</th>\n",
              "      <th>APPLICATION_TYPE_T4</th>\n",
              "      <th>APPLICATION_TYPE_T5</th>\n",
              "      <th>APPLICATION_TYPE_T6</th>\n",
              "      <th>AFFILIATION_CompanySponsored</th>\n",
              "      <th>AFFILIATION_Family/Parent</th>\n",
              "      <th>AFFILIATION_Independent</th>\n",
              "      <th>...</th>\n",
              "      <th>ASK_AMT_1736232349</th>\n",
              "      <th>ASK_AMT_1893400128</th>\n",
              "      <th>ASK_AMT_2264109450</th>\n",
              "      <th>ASK_AMT_2310256039</th>\n",
              "      <th>ASK_AMT_3391919220</th>\n",
              "      <th>ASK_AMT_4653011914</th>\n",
              "      <th>ASK_AMT_5591584994</th>\n",
              "      <th>ASK_AMT_8556638692</th>\n",
              "      <th>ASK_AMT_8597806340</th>\n",
              "      <th>ASK_AMT_Other</th>\n",
              "    </tr>\n",
              "  </thead>\n",
              "  <tbody>\n",
              "    <tr>\n",
              "      <th>0</th>\n",
              "      <td>1</td>\n",
              "      <td>True</td>\n",
              "      <td>False</td>\n",
              "      <td>False</td>\n",
              "      <td>False</td>\n",
              "      <td>False</td>\n",
              "      <td>False</td>\n",
              "      <td>False</td>\n",
              "      <td>False</td>\n",
              "      <td>True</td>\n",
              "      <td>...</td>\n",
              "      <td>False</td>\n",
              "      <td>False</td>\n",
              "      <td>False</td>\n",
              "      <td>False</td>\n",
              "      <td>False</td>\n",
              "      <td>False</td>\n",
              "      <td>False</td>\n",
              "      <td>False</td>\n",
              "      <td>False</td>\n",
              "      <td>True</td>\n",
              "    </tr>\n",
              "    <tr>\n",
              "      <th>1</th>\n",
              "      <td>1</td>\n",
              "      <td>False</td>\n",
              "      <td>False</td>\n",
              "      <td>True</td>\n",
              "      <td>False</td>\n",
              "      <td>False</td>\n",
              "      <td>False</td>\n",
              "      <td>False</td>\n",
              "      <td>False</td>\n",
              "      <td>True</td>\n",
              "      <td>...</td>\n",
              "      <td>False</td>\n",
              "      <td>False</td>\n",
              "      <td>False</td>\n",
              "      <td>False</td>\n",
              "      <td>False</td>\n",
              "      <td>False</td>\n",
              "      <td>False</td>\n",
              "      <td>False</td>\n",
              "      <td>False</td>\n",
              "      <td>False</td>\n",
              "    </tr>\n",
              "    <tr>\n",
              "      <th>2</th>\n",
              "      <td>0</td>\n",
              "      <td>False</td>\n",
              "      <td>False</td>\n",
              "      <td>False</td>\n",
              "      <td>False</td>\n",
              "      <td>True</td>\n",
              "      <td>False</td>\n",
              "      <td>True</td>\n",
              "      <td>False</td>\n",
              "      <td>False</td>\n",
              "      <td>...</td>\n",
              "      <td>False</td>\n",
              "      <td>False</td>\n",
              "      <td>False</td>\n",
              "      <td>False</td>\n",
              "      <td>False</td>\n",
              "      <td>False</td>\n",
              "      <td>False</td>\n",
              "      <td>False</td>\n",
              "      <td>False</td>\n",
              "      <td>True</td>\n",
              "    </tr>\n",
              "    <tr>\n",
              "      <th>3</th>\n",
              "      <td>1</td>\n",
              "      <td>False</td>\n",
              "      <td>False</td>\n",
              "      <td>True</td>\n",
              "      <td>False</td>\n",
              "      <td>False</td>\n",
              "      <td>False</td>\n",
              "      <td>True</td>\n",
              "      <td>False</td>\n",
              "      <td>False</td>\n",
              "      <td>...</td>\n",
              "      <td>False</td>\n",
              "      <td>False</td>\n",
              "      <td>False</td>\n",
              "      <td>False</td>\n",
              "      <td>False</td>\n",
              "      <td>False</td>\n",
              "      <td>False</td>\n",
              "      <td>False</td>\n",
              "      <td>False</td>\n",
              "      <td>False</td>\n",
              "    </tr>\n",
              "    <tr>\n",
              "      <th>4</th>\n",
              "      <td>1</td>\n",
              "      <td>False</td>\n",
              "      <td>False</td>\n",
              "      <td>True</td>\n",
              "      <td>False</td>\n",
              "      <td>False</td>\n",
              "      <td>False</td>\n",
              "      <td>False</td>\n",
              "      <td>False</td>\n",
              "      <td>True</td>\n",
              "      <td>...</td>\n",
              "      <td>False</td>\n",
              "      <td>False</td>\n",
              "      <td>False</td>\n",
              "      <td>False</td>\n",
              "      <td>False</td>\n",
              "      <td>False</td>\n",
              "      <td>False</td>\n",
              "      <td>False</td>\n",
              "      <td>False</td>\n",
              "      <td>False</td>\n",
              "    </tr>\n",
              "  </tbody>\n",
              "</table>\n",
              "<p>5 rows × 8783 columns</p>\n",
              "</div>\n",
              "    <div class=\"colab-df-buttons\">\n",
              "\n",
              "  <div class=\"colab-df-container\">\n",
              "    <button class=\"colab-df-convert\" onclick=\"convertToInteractive('df-13a31f51-ccf1-43d4-90f3-d8266a862380')\"\n",
              "            title=\"Convert this dataframe to an interactive table.\"\n",
              "            style=\"display:none;\">\n",
              "\n",
              "  <svg xmlns=\"http://www.w3.org/2000/svg\" height=\"24px\" viewBox=\"0 -960 960 960\">\n",
              "    <path d=\"M120-120v-720h720v720H120Zm60-500h600v-160H180v160Zm220 220h160v-160H400v160Zm0 220h160v-160H400v160ZM180-400h160v-160H180v160Zm440 0h160v-160H620v160ZM180-180h160v-160H180v160Zm440 0h160v-160H620v160Z\"/>\n",
              "  </svg>\n",
              "    </button>\n",
              "\n",
              "  <style>\n",
              "    .colab-df-container {\n",
              "      display:flex;\n",
              "      gap: 12px;\n",
              "    }\n",
              "\n",
              "    .colab-df-convert {\n",
              "      background-color: #E8F0FE;\n",
              "      border: none;\n",
              "      border-radius: 50%;\n",
              "      cursor: pointer;\n",
              "      display: none;\n",
              "      fill: #1967D2;\n",
              "      height: 32px;\n",
              "      padding: 0 0 0 0;\n",
              "      width: 32px;\n",
              "    }\n",
              "\n",
              "    .colab-df-convert:hover {\n",
              "      background-color: #E2EBFA;\n",
              "      box-shadow: 0px 1px 2px rgba(60, 64, 67, 0.3), 0px 1px 3px 1px rgba(60, 64, 67, 0.15);\n",
              "      fill: #174EA6;\n",
              "    }\n",
              "\n",
              "    .colab-df-buttons div {\n",
              "      margin-bottom: 4px;\n",
              "    }\n",
              "\n",
              "    [theme=dark] .colab-df-convert {\n",
              "      background-color: #3B4455;\n",
              "      fill: #D2E3FC;\n",
              "    }\n",
              "\n",
              "    [theme=dark] .colab-df-convert:hover {\n",
              "      background-color: #434B5C;\n",
              "      box-shadow: 0px 1px 3px 1px rgba(0, 0, 0, 0.15);\n",
              "      filter: drop-shadow(0px 1px 2px rgba(0, 0, 0, 0.3));\n",
              "      fill: #FFFFFF;\n",
              "    }\n",
              "  </style>\n",
              "\n",
              "    <script>\n",
              "      const buttonEl =\n",
              "        document.querySelector('#df-13a31f51-ccf1-43d4-90f3-d8266a862380 button.colab-df-convert');\n",
              "      buttonEl.style.display =\n",
              "        google.colab.kernel.accessAllowed ? 'block' : 'none';\n",
              "\n",
              "      async function convertToInteractive(key) {\n",
              "        const element = document.querySelector('#df-13a31f51-ccf1-43d4-90f3-d8266a862380');\n",
              "        const dataTable =\n",
              "          await google.colab.kernel.invokeFunction('convertToInteractive',\n",
              "                                                    [key], {});\n",
              "        if (!dataTable) return;\n",
              "\n",
              "        const docLinkHtml = 'Like what you see? Visit the ' +\n",
              "          '<a target=\"_blank\" href=https://colab.research.google.com/notebooks/data_table.ipynb>data table notebook</a>'\n",
              "          + ' to learn more about interactive tables.';\n",
              "        element.innerHTML = '';\n",
              "        dataTable['output_type'] = 'display_data';\n",
              "        await google.colab.output.renderOutput(dataTable, element);\n",
              "        const docLink = document.createElement('div');\n",
              "        docLink.innerHTML = docLinkHtml;\n",
              "        element.appendChild(docLink);\n",
              "      }\n",
              "    </script>\n",
              "  </div>\n",
              "\n",
              "\n",
              "<div id=\"df-78e4bf17-9f7b-4f81-b01f-fc46d84001b4\">\n",
              "  <button class=\"colab-df-quickchart\" onclick=\"quickchart('df-78e4bf17-9f7b-4f81-b01f-fc46d84001b4')\"\n",
              "            title=\"Suggest charts\"\n",
              "            style=\"display:none;\">\n",
              "\n",
              "<svg xmlns=\"http://www.w3.org/2000/svg\" height=\"24px\"viewBox=\"0 0 24 24\"\n",
              "     width=\"24px\">\n",
              "    <g>\n",
              "        <path d=\"M19 3H5c-1.1 0-2 .9-2 2v14c0 1.1.9 2 2 2h14c1.1 0 2-.9 2-2V5c0-1.1-.9-2-2-2zM9 17H7v-7h2v7zm4 0h-2V7h2v10zm4 0h-2v-4h2v4z\"/>\n",
              "    </g>\n",
              "</svg>\n",
              "  </button>\n",
              "\n",
              "<style>\n",
              "  .colab-df-quickchart {\n",
              "      --bg-color: #E8F0FE;\n",
              "      --fill-color: #1967D2;\n",
              "      --hover-bg-color: #E2EBFA;\n",
              "      --hover-fill-color: #174EA6;\n",
              "      --disabled-fill-color: #AAA;\n",
              "      --disabled-bg-color: #DDD;\n",
              "  }\n",
              "\n",
              "  [theme=dark] .colab-df-quickchart {\n",
              "      --bg-color: #3B4455;\n",
              "      --fill-color: #D2E3FC;\n",
              "      --hover-bg-color: #434B5C;\n",
              "      --hover-fill-color: #FFFFFF;\n",
              "      --disabled-bg-color: #3B4455;\n",
              "      --disabled-fill-color: #666;\n",
              "  }\n",
              "\n",
              "  .colab-df-quickchart {\n",
              "    background-color: var(--bg-color);\n",
              "    border: none;\n",
              "    border-radius: 50%;\n",
              "    cursor: pointer;\n",
              "    display: none;\n",
              "    fill: var(--fill-color);\n",
              "    height: 32px;\n",
              "    padding: 0;\n",
              "    width: 32px;\n",
              "  }\n",
              "\n",
              "  .colab-df-quickchart:hover {\n",
              "    background-color: var(--hover-bg-color);\n",
              "    box-shadow: 0 1px 2px rgba(60, 64, 67, 0.3), 0 1px 3px 1px rgba(60, 64, 67, 0.15);\n",
              "    fill: var(--button-hover-fill-color);\n",
              "  }\n",
              "\n",
              "  .colab-df-quickchart-complete:disabled,\n",
              "  .colab-df-quickchart-complete:disabled:hover {\n",
              "    background-color: var(--disabled-bg-color);\n",
              "    fill: var(--disabled-fill-color);\n",
              "    box-shadow: none;\n",
              "  }\n",
              "\n",
              "  .colab-df-spinner {\n",
              "    border: 2px solid var(--fill-color);\n",
              "    border-color: transparent;\n",
              "    border-bottom-color: var(--fill-color);\n",
              "    animation:\n",
              "      spin 1s steps(1) infinite;\n",
              "  }\n",
              "\n",
              "  @keyframes spin {\n",
              "    0% {\n",
              "      border-color: transparent;\n",
              "      border-bottom-color: var(--fill-color);\n",
              "      border-left-color: var(--fill-color);\n",
              "    }\n",
              "    20% {\n",
              "      border-color: transparent;\n",
              "      border-left-color: var(--fill-color);\n",
              "      border-top-color: var(--fill-color);\n",
              "    }\n",
              "    30% {\n",
              "      border-color: transparent;\n",
              "      border-left-color: var(--fill-color);\n",
              "      border-top-color: var(--fill-color);\n",
              "      border-right-color: var(--fill-color);\n",
              "    }\n",
              "    40% {\n",
              "      border-color: transparent;\n",
              "      border-right-color: var(--fill-color);\n",
              "      border-top-color: var(--fill-color);\n",
              "    }\n",
              "    60% {\n",
              "      border-color: transparent;\n",
              "      border-right-color: var(--fill-color);\n",
              "    }\n",
              "    80% {\n",
              "      border-color: transparent;\n",
              "      border-right-color: var(--fill-color);\n",
              "      border-bottom-color: var(--fill-color);\n",
              "    }\n",
              "    90% {\n",
              "      border-color: transparent;\n",
              "      border-bottom-color: var(--fill-color);\n",
              "    }\n",
              "  }\n",
              "</style>\n",
              "\n",
              "  <script>\n",
              "    async function quickchart(key) {\n",
              "      const quickchartButtonEl =\n",
              "        document.querySelector('#' + key + ' button');\n",
              "      quickchartButtonEl.disabled = true;  // To prevent multiple clicks.\n",
              "      quickchartButtonEl.classList.add('colab-df-spinner');\n",
              "      try {\n",
              "        const charts = await google.colab.kernel.invokeFunction(\n",
              "            'suggestCharts', [key], {});\n",
              "      } catch (error) {\n",
              "        console.error('Error during call to suggestCharts:', error);\n",
              "      }\n",
              "      quickchartButtonEl.classList.remove('colab-df-spinner');\n",
              "      quickchartButtonEl.classList.add('colab-df-quickchart-complete');\n",
              "    }\n",
              "    (() => {\n",
              "      let quickchartButtonEl =\n",
              "        document.querySelector('#df-78e4bf17-9f7b-4f81-b01f-fc46d84001b4 button');\n",
              "      quickchartButtonEl.style.display =\n",
              "        google.colab.kernel.accessAllowed ? 'block' : 'none';\n",
              "    })();\n",
              "  </script>\n",
              "</div>\n",
              "\n",
              "    </div>\n",
              "  </div>\n"
            ],
            "application/vnd.google.colaboratory.intrinsic+json": {
              "type": "dataframe",
              "variable_name": "applications_df"
            }
          },
          "metadata": {},
          "execution_count": 7
        }
      ],
      "source": [
        "# convert categorical data to numeric\n",
        "applications_df = pd.get_dummies(applications_df)\n",
        "applications_df.head()"
      ]
    },
    {
      "cell_type": "code",
      "execution_count": 8,
      "metadata": {
        "id": "TqDIMT5oVbzd"
      },
      "outputs": [],
      "source": [
        "# Split our preprocessed data into our features and target arrays\n",
        "X = applications_df.drop(columns=[\"IS_SUCCESSFUL\"]).values\n",
        "y = applications_df[\"IS_SUCCESSFUL\"].values\n",
        "# Split the preprocessed data into a training and testing dataset\n",
        "X_train, X_test, y_train, y_test = train_test_split(X, y)"
      ]
    },
    {
      "cell_type": "code",
      "execution_count": 19,
      "metadata": {
        "id": "m9lEMhL57tyO"
      },
      "outputs": [],
      "source": [
        "#see what kera thinks we should do 1/4\n",
        "# Create a method that creates a new Sequential model with hyperparameter options\n",
        "def create_model(hp):\n",
        "    nn_model = tf.keras.models.Sequential()\n",
        "\n",
        "    # Allow kerastuner to decide which activation function to use in hidden layers\n",
        "    activation = hp.Choice('activation',['relu','tanh','sigmoid'])\n",
        "\n",
        "    # Allow kerastuner to decide number of neurons in first layer\n",
        "    nn_model.add(tf.keras.layers.Dense(\n",
        "        units=hp.Int('first_units',min_value=32,max_value=512,step=32),\n",
        "        activation=activation,\n",
        "        input_dim=8782))\n",
        "\n",
        "    # Allow kerastuner to decide number of hidden layers and neurons in hidden layers\n",
        "    for i in range(hp.Int('num_layers', 1, 4)):\n",
        "        nn_model.add(tf.keras.layers.Dense(\n",
        "            units=hp.Int('units_' + str(i),\n",
        "            min_value=1,\n",
        "            max_value=10,\n",
        "            step=2),\n",
        "            activation=activation))\n",
        "\n",
        "    nn_model.add(tf.keras.layers.Dense(units=1, activation=\"sigmoid\"))\n",
        "\n",
        "    # Compile the model\n",
        "    nn_model.compile(loss=\"binary_crossentropy\", optimizer='adam', metrics=[\"accuracy\"])\n",
        "\n",
        "\n",
        "\n",
        "\n",
        "    return nn_model"
      ]
    },
    {
      "cell_type": "code",
      "source": [
        "#2/4\n",
        "# Import the kerastuner library\n",
        "!pip install keras_tuner"
      ],
      "metadata": {
        "colab": {
          "base_uri": "https://localhost:8080/"
        },
        "id": "aVrRLqujzmwr",
        "outputId": "9a96847a-231f-476a-834e-68c654d438a5"
      },
      "execution_count": 10,
      "outputs": [
        {
          "output_type": "stream",
          "name": "stdout",
          "text": [
            "Collecting keras_tuner\n",
            "  Downloading keras_tuner-1.4.7-py3-none-any.whl (129 kB)\n",
            "\u001b[?25l     \u001b[90m━━━━━━━━━━━━━━━━━━━━━━━━━━━━━━━━━━━━━━━━\u001b[0m \u001b[32m0.0/129.1 kB\u001b[0m \u001b[31m?\u001b[0m eta \u001b[36m-:--:--\u001b[0m\r\u001b[2K     \u001b[91m━━━━━━━━━━━━━━━━━━━━━━━━━━━━━━━━━━━━━━\u001b[0m\u001b[90m╺\u001b[0m\u001b[90m━\u001b[0m \u001b[32m122.9/129.1 kB\u001b[0m \u001b[31m3.5 MB/s\u001b[0m eta \u001b[36m0:00:01\u001b[0m\r\u001b[2K     \u001b[90m━━━━━━━━━━━━━━━━━━━━━━━━━━━━━━━━━━━━━━━━\u001b[0m \u001b[32m129.1/129.1 kB\u001b[0m \u001b[31m2.8 MB/s\u001b[0m eta \u001b[36m0:00:00\u001b[0m\n",
            "\u001b[?25hRequirement already satisfied: keras in /usr/local/lib/python3.10/dist-packages (from keras_tuner) (2.15.0)\n",
            "Requirement already satisfied: packaging in /usr/local/lib/python3.10/dist-packages (from keras_tuner) (24.0)\n",
            "Requirement already satisfied: requests in /usr/local/lib/python3.10/dist-packages (from keras_tuner) (2.31.0)\n",
            "Collecting kt-legacy (from keras_tuner)\n",
            "  Downloading kt_legacy-1.0.5-py3-none-any.whl (9.6 kB)\n",
            "Requirement already satisfied: charset-normalizer<4,>=2 in /usr/local/lib/python3.10/dist-packages (from requests->keras_tuner) (3.3.2)\n",
            "Requirement already satisfied: idna<4,>=2.5 in /usr/local/lib/python3.10/dist-packages (from requests->keras_tuner) (3.7)\n",
            "Requirement already satisfied: urllib3<3,>=1.21.1 in /usr/local/lib/python3.10/dist-packages (from requests->keras_tuner) (2.0.7)\n",
            "Requirement already satisfied: certifi>=2017.4.17 in /usr/local/lib/python3.10/dist-packages (from requests->keras_tuner) (2024.2.2)\n",
            "Installing collected packages: kt-legacy, keras_tuner\n",
            "Successfully installed keras_tuner-1.4.7 kt-legacy-1.0.5\n"
          ]
        }
      ]
    },
    {
      "cell_type": "code",
      "execution_count": 20,
      "metadata": {
        "colab": {
          "base_uri": "https://localhost:8080/"
        },
        "id": "dxGwcXj075xQ",
        "outputId": "179876e3-e4a7-480c-f523-80d9e8589d6e"
      },
      "outputs": [
        {
          "output_type": "stream",
          "name": "stdout",
          "text": [
            "Reloading Tuner from ./untitled_project/tuner0.json\n"
          ]
        }
      ],
      "source": [
        "#3/4\n",
        "\n",
        "import keras_tuner as kt\n",
        "\n",
        "tuner = kt.Hyperband(\n",
        "    create_model,\n",
        "    objective=\"val_accuracy\",\n",
        "    max_epochs=8,\n",
        "    hyperband_iterations=2)\n",
        "\n",
        "\n"
      ]
    },
    {
      "cell_type": "code",
      "execution_count": 21,
      "metadata": {
        "colab": {
          "base_uri": "https://localhost:8080/"
        },
        "id": "L8hd1ivZ8C2n",
        "outputId": "b9d92677-a7bf-4e9b-f813-83a9a78c4054"
      },
      "outputs": [
        {
          "output_type": "stream",
          "name": "stdout",
          "text": [
            "Trial 18 Complete [00h 05m 24s]\n",
            "val_accuracy: 0.7279300093650818\n",
            "\n",
            "Best val_accuracy So Far: 0.7332944869995117\n",
            "Total elapsed time: 00h 55m 48s\n"
          ]
        }
      ],
      "source": [
        "#3/3\n",
        "# Run the kerastuner search for best hyperparameters\n",
        "tuner.search(X_train,y_train,epochs=8,validation_data=(X_test,y_test))\n",
        "\n"
      ]
    },
    {
      "cell_type": "code",
      "source": [
        "# Get best model hyperparameters\n",
        "best_hyper = tuner.get_best_hyperparameters(1)[0]\n",
        "best_hyper.values\n",
        "\n"
      ],
      "metadata": {
        "id": "8KD-zAabjPxd",
        "colab": {
          "base_uri": "https://localhost:8080/"
        },
        "outputId": "a31011d1-892f-460e-ff1d-7fb43d34b0b9"
      },
      "execution_count": 23,
      "outputs": [
        {
          "output_type": "execute_result",
          "data": {
            "text/plain": [
              "{'activation': 'relu',\n",
              " 'first_units': 192,\n",
              " 'num_layers': 2,\n",
              " 'units_0': 7,\n",
              " 'units_1': 1,\n",
              " 'units_2': 5,\n",
              " 'units_3': 1,\n",
              " 'tuner/epochs': 8,\n",
              " 'tuner/initial_epoch': 0,\n",
              " 'tuner/bracket': 0,\n",
              " 'tuner/round': 0}"
            ]
          },
          "metadata": {},
          "execution_count": 23
        }
      ]
    },
    {
      "cell_type": "code",
      "source": [
        "# Evaluate best model against full test data\n",
        "best_model = tuner.get_best_models(1)[0]\n",
        "model_loss, model_accuracy = best_model.evaluate(X_test,y_test,verbose=2)\n",
        "print(f\"Loss: {model_loss}, Accuracy: {model_accuracy}\")"
      ],
      "metadata": {
        "colab": {
          "base_uri": "https://localhost:8080/"
        },
        "id": "yqExNMR5c5wc",
        "outputId": "03e16c08-ead8-4de3-a4cf-24e48f668056"
      },
      "execution_count": 24,
      "outputs": [
        {
          "output_type": "stream",
          "name": "stdout",
          "text": [
            "268/268 - 1s - loss: 0.5739 - accuracy: 0.7333 - 1s/epoch - 5ms/step\n",
            "Loss: 0.5738968253135681, Accuracy: 0.7332944869995117\n"
          ]
        }
      ]
    },
    {
      "cell_type": "code",
      "source": [
        "# Compile the best model\n",
        "best_model.compile(optimizer='adam', loss='binary_crossentropy', metrics=['accuracy'])\n",
        "\n",
        "# Fine-tune the best model\n",
        "best_model.fit(X_train, y_train, epochs=50, validation_data=(X_test, y_test))"
      ],
      "metadata": {
        "colab": {
          "base_uri": "https://localhost:8080/"
        },
        "id": "UxorThGGXKHb",
        "outputId": "d263bd5f-287e-44ab-b106-33416c620798"
      },
      "execution_count": 25,
      "outputs": [
        {
          "output_type": "stream",
          "name": "stderr",
          "text": [
            "WARNING:tensorflow:Detecting that an object or model or tf.train.Checkpoint is being deleted with unrestored values. See the following logs for the specific values in question. To silence these warnings, use `status.expect_partial()`. See https://www.tensorflow.org/api_docs/python/tf/train/Checkpoint#restorefor details about the status object returned by the restore function.\n",
            "WARNING:tensorflow:Value in checkpoint could not be found in the restored object: (root).optimizer._variables.1\n",
            "WARNING:tensorflow:Value in checkpoint could not be found in the restored object: (root).optimizer._variables.2\n",
            "WARNING:tensorflow:Value in checkpoint could not be found in the restored object: (root).optimizer._variables.3\n",
            "WARNING:tensorflow:Value in checkpoint could not be found in the restored object: (root).optimizer._variables.4\n",
            "WARNING:tensorflow:Value in checkpoint could not be found in the restored object: (root).optimizer._variables.5\n",
            "WARNING:tensorflow:Value in checkpoint could not be found in the restored object: (root).optimizer._variables.6\n",
            "WARNING:tensorflow:Value in checkpoint could not be found in the restored object: (root).optimizer._variables.7\n",
            "WARNING:tensorflow:Value in checkpoint could not be found in the restored object: (root).optimizer._variables.8\n",
            "WARNING:tensorflow:Value in checkpoint could not be found in the restored object: (root).optimizer._variables.9\n",
            "WARNING:tensorflow:Value in checkpoint could not be found in the restored object: (root).optimizer._variables.10\n",
            "WARNING:tensorflow:Value in checkpoint could not be found in the restored object: (root).optimizer._variables.11\n",
            "WARNING:tensorflow:Value in checkpoint could not be found in the restored object: (root).optimizer._variables.12\n",
            "WARNING:tensorflow:Value in checkpoint could not be found in the restored object: (root).optimizer._variables.13\n",
            "WARNING:tensorflow:Value in checkpoint could not be found in the restored object: (root).optimizer._variables.14\n",
            "WARNING:tensorflow:Value in checkpoint could not be found in the restored object: (root).optimizer._variables.15\n",
            "WARNING:tensorflow:Value in checkpoint could not be found in the restored object: (root).optimizer._variables.16\n"
          ]
        },
        {
          "output_type": "stream",
          "name": "stdout",
          "text": [
            "Epoch 1/50\n",
            "804/804 [==============================] - 22s 26ms/step - loss: 0.4465 - accuracy: 0.7972 - val_loss: 0.6341 - val_accuracy: 0.6878\n",
            "Epoch 2/50\n",
            "804/804 [==============================] - 23s 29ms/step - loss: 0.4438 - accuracy: 0.7984 - val_loss: 0.6307 - val_accuracy: 0.6991\n",
            "Epoch 3/50\n",
            "804/804 [==============================] - 20s 25ms/step - loss: 0.4431 - accuracy: 0.7979 - val_loss: 0.5829 - val_accuracy: 0.7145\n",
            "Epoch 4/50\n",
            "804/804 [==============================] - 21s 27ms/step - loss: 0.4408 - accuracy: 0.7980 - val_loss: 0.5982 - val_accuracy: 0.7130\n",
            "Epoch 5/50\n",
            "804/804 [==============================] - 20s 25ms/step - loss: 0.4397 - accuracy: 0.7990 - val_loss: 0.6021 - val_accuracy: 0.7123\n",
            "Epoch 6/50\n",
            "804/804 [==============================] - 21s 26ms/step - loss: 0.4396 - accuracy: 0.7980 - val_loss: 0.7032 - val_accuracy: 0.6760\n",
            "Epoch 7/50\n",
            "804/804 [==============================] - 21s 26ms/step - loss: 0.4390 - accuracy: 0.7984 - val_loss: 0.7075 - val_accuracy: 0.6781\n",
            "Epoch 8/50\n",
            "804/804 [==============================] - 23s 28ms/step - loss: 0.4380 - accuracy: 0.7996 - val_loss: 0.6775 - val_accuracy: 0.6813\n",
            "Epoch 9/50\n",
            "804/804 [==============================] - 20s 25ms/step - loss: 0.4378 - accuracy: 0.7990 - val_loss: 0.7091 - val_accuracy: 0.6765\n",
            "Epoch 10/50\n",
            "804/804 [==============================] - 21s 27ms/step - loss: 0.4373 - accuracy: 0.7991 - val_loss: 0.6635 - val_accuracy: 0.6837\n",
            "Epoch 11/50\n",
            "804/804 [==============================] - 20s 25ms/step - loss: 0.4364 - accuracy: 0.7991 - val_loss: 0.6594 - val_accuracy: 0.6856\n",
            "Epoch 12/50\n",
            "804/804 [==============================] - 21s 27ms/step - loss: 0.4362 - accuracy: 0.7998 - val_loss: 0.7203 - val_accuracy: 0.6793\n",
            "Epoch 13/50\n",
            "804/804 [==============================] - 20s 25ms/step - loss: 0.4349 - accuracy: 0.7997 - val_loss: 0.7215 - val_accuracy: 0.6749\n",
            "Epoch 14/50\n",
            "804/804 [==============================] - 24s 29ms/step - loss: 0.4326 - accuracy: 0.8019 - val_loss: 0.7231 - val_accuracy: 0.6724\n",
            "Epoch 15/50\n",
            "804/804 [==============================] - 20s 25ms/step - loss: 0.4284 - accuracy: 0.8033 - val_loss: 0.7251 - val_accuracy: 0.6780\n",
            "Epoch 16/50\n",
            "804/804 [==============================] - 21s 26ms/step - loss: 0.4232 - accuracy: 0.8061 - val_loss: 0.7072 - val_accuracy: 0.6838\n",
            "Epoch 17/50\n",
            "804/804 [==============================] - 20s 25ms/step - loss: 0.4195 - accuracy: 0.8067 - val_loss: 0.7633 - val_accuracy: 0.6716\n",
            "Epoch 18/50\n",
            "804/804 [==============================] - 20s 25ms/step - loss: 0.4168 - accuracy: 0.8078 - val_loss: 0.7483 - val_accuracy: 0.6731\n",
            "Epoch 19/50\n",
            "804/804 [==============================] - 21s 26ms/step - loss: 0.4154 - accuracy: 0.8075 - val_loss: 0.7508 - val_accuracy: 0.6759\n",
            "Epoch 20/50\n",
            "804/804 [==============================] - 21s 26ms/step - loss: 0.4148 - accuracy: 0.8085 - val_loss: 0.7403 - val_accuracy: 0.6735\n",
            "Epoch 21/50\n",
            "804/804 [==============================] - 21s 27ms/step - loss: 0.4143 - accuracy: 0.8094 - val_loss: 0.7710 - val_accuracy: 0.6711\n",
            "Epoch 22/50\n",
            "804/804 [==============================] - 20s 25ms/step - loss: 0.4143 - accuracy: 0.8090 - val_loss: 0.7437 - val_accuracy: 0.6783\n",
            "Epoch 23/50\n",
            "804/804 [==============================] - 22s 27ms/step - loss: 0.4146 - accuracy: 0.8079 - val_loss: 0.7686 - val_accuracy: 0.6771\n",
            "Epoch 24/50\n",
            "804/804 [==============================] - 20s 25ms/step - loss: 0.4132 - accuracy: 0.8092 - val_loss: 0.7260 - val_accuracy: 0.6868\n",
            "Epoch 25/50\n",
            "804/804 [==============================] - 22s 27ms/step - loss: 0.4137 - accuracy: 0.8098 - val_loss: 0.7821 - val_accuracy: 0.6737\n",
            "Epoch 26/50\n",
            "804/804 [==============================] - 22s 27ms/step - loss: 0.4135 - accuracy: 0.8099 - val_loss: 0.7815 - val_accuracy: 0.6711\n",
            "Epoch 27/50\n",
            "804/804 [==============================] - 22s 28ms/step - loss: 0.4135 - accuracy: 0.8089 - val_loss: 0.7660 - val_accuracy: 0.6762\n",
            "Epoch 28/50\n",
            "804/804 [==============================] - 20s 25ms/step - loss: 0.4135 - accuracy: 0.8099 - val_loss: 0.7704 - val_accuracy: 0.6791\n",
            "Epoch 29/50\n",
            "804/804 [==============================] - 22s 27ms/step - loss: 0.4130 - accuracy: 0.8092 - val_loss: 0.7831 - val_accuracy: 0.6765\n",
            "Epoch 30/50\n",
            "804/804 [==============================] - 20s 25ms/step - loss: 0.4128 - accuracy: 0.8102 - val_loss: 0.7896 - val_accuracy: 0.6752\n",
            "Epoch 31/50\n",
            "804/804 [==============================] - 21s 26ms/step - loss: 0.4135 - accuracy: 0.8101 - val_loss: 0.7954 - val_accuracy: 0.6751\n",
            "Epoch 32/50\n",
            "804/804 [==============================] - 21s 27ms/step - loss: 0.4131 - accuracy: 0.8097 - val_loss: 0.8006 - val_accuracy: 0.6751\n",
            "Epoch 33/50\n",
            "804/804 [==============================] - 22s 27ms/step - loss: 0.4125 - accuracy: 0.8100 - val_loss: 0.7969 - val_accuracy: 0.6737\n",
            "Epoch 34/50\n",
            "804/804 [==============================] - 20s 25ms/step - loss: 0.4117 - accuracy: 0.8097 - val_loss: 0.8016 - val_accuracy: 0.6746\n",
            "Epoch 35/50\n",
            "804/804 [==============================] - 21s 27ms/step - loss: 0.4123 - accuracy: 0.8097 - val_loss: 0.7979 - val_accuracy: 0.6721\n",
            "Epoch 36/50\n",
            "804/804 [==============================] - 20s 25ms/step - loss: 0.4123 - accuracy: 0.8089 - val_loss: 0.8110 - val_accuracy: 0.6745\n",
            "Epoch 37/50\n",
            "804/804 [==============================] - 21s 26ms/step - loss: 0.4117 - accuracy: 0.8092 - val_loss: 0.8051 - val_accuracy: 0.6720\n",
            "Epoch 38/50\n",
            "804/804 [==============================] - 22s 28ms/step - loss: 0.4099 - accuracy: 0.8099 - val_loss: 0.8081 - val_accuracy: 0.6748\n",
            "Epoch 39/50\n",
            "804/804 [==============================] - 21s 27ms/step - loss: 0.4097 - accuracy: 0.8104 - val_loss: 0.8168 - val_accuracy: 0.6742\n",
            "Epoch 40/50\n",
            "804/804 [==============================] - 20s 25ms/step - loss: 0.4093 - accuracy: 0.8099 - val_loss: 0.8145 - val_accuracy: 0.6750\n",
            "Epoch 41/50\n",
            "804/804 [==============================] - 21s 26ms/step - loss: 0.4088 - accuracy: 0.8103 - val_loss: 0.8209 - val_accuracy: 0.6756\n",
            "Epoch 42/50\n",
            "804/804 [==============================] - 20s 25ms/step - loss: 0.4087 - accuracy: 0.8103 - val_loss: 0.8291 - val_accuracy: 0.6739\n",
            "Epoch 43/50\n",
            "804/804 [==============================] - 20s 25ms/step - loss: 0.4085 - accuracy: 0.8099 - val_loss: 0.8276 - val_accuracy: 0.6736\n",
            "Epoch 44/50\n",
            "804/804 [==============================] - 21s 26ms/step - loss: 0.4083 - accuracy: 0.8103 - val_loss: 0.8278 - val_accuracy: 0.6749\n",
            "Epoch 45/50\n",
            "804/804 [==============================] - 21s 26ms/step - loss: 0.4082 - accuracy: 0.8107 - val_loss: 0.8034 - val_accuracy: 0.6816\n",
            "Epoch 46/50\n",
            "804/804 [==============================] - 21s 26ms/step - loss: 0.4085 - accuracy: 0.8091 - val_loss: 0.8412 - val_accuracy: 0.6744\n",
            "Epoch 47/50\n",
            "804/804 [==============================] - 20s 25ms/step - loss: 0.4082 - accuracy: 0.8108 - val_loss: 0.8322 - val_accuracy: 0.6757\n",
            "Epoch 48/50\n",
            "804/804 [==============================] - 21s 27ms/step - loss: 0.4080 - accuracy: 0.8105 - val_loss: 0.8319 - val_accuracy: 0.6758\n",
            "Epoch 49/50\n",
            "804/804 [==============================] - 20s 25ms/step - loss: 0.4080 - accuracy: 0.8089 - val_loss: 0.8352 - val_accuracy: 0.6752\n",
            "Epoch 50/50\n",
            "804/804 [==============================] - 22s 27ms/step - loss: 0.4080 - accuracy: 0.8107 - val_loss: 0.8194 - val_accuracy: 0.6807\n"
          ]
        },
        {
          "output_type": "execute_result",
          "data": {
            "text/plain": [
              "<keras.src.callbacks.History at 0x7e7476f32c50>"
            ]
          },
          "metadata": {},
          "execution_count": 25
        }
      ]
    },
    {
      "cell_type": "code",
      "execution_count": 26,
      "metadata": {
        "colab": {
          "base_uri": "https://localhost:8080/",
          "height": 162
        },
        "id": "v5vBlMB3W3sj",
        "outputId": "0716dce0-e47d-48c8-eac7-b094746d80f7"
      },
      "outputs": [
        {
          "output_type": "error",
          "ename": "NameError",
          "evalue": "name 'nn' is not defined",
          "traceback": [
            "\u001b[0;31m---------------------------------------------------------------------------\u001b[0m",
            "\u001b[0;31mNameError\u001b[0m                                 Traceback (most recent call last)",
            "\u001b[0;32m<ipython-input-26-d49e2889c556>\u001b[0m in \u001b[0;36m<cell line: 2>\u001b[0;34m()\u001b[0m\n\u001b[1;32m      1\u001b[0m \u001b[0;31m# Export our model to HDF5 file\u001b[0m\u001b[0;34m\u001b[0m\u001b[0;34m\u001b[0m\u001b[0m\n\u001b[0;32m----> 2\u001b[0;31m \u001b[0mnn\u001b[0m\u001b[0;34m.\u001b[0m\u001b[0msave\u001b[0m\u001b[0;34m(\u001b[0m\u001b[0;34m\"AlphabetSoupCharity_Optimization.h5\"\u001b[0m\u001b[0;34m)\u001b[0m\u001b[0;34m\u001b[0m\u001b[0;34m\u001b[0m\u001b[0m\n\u001b[0m",
            "\u001b[0;31mNameError\u001b[0m: name 'nn' is not defined"
          ]
        }
      ],
      "source": [
        "# Export our model to HDF5 file\n",
        "nn.save(\"AlphabetSoupCharity_Optimization.h5\")"
      ]
    }
  ],
  "metadata": {
    "colab": {
      "provenance": []
    },
    "kernelspec": {
      "display_name": "Python 3",
      "name": "python3"
    },
    "language_info": {
      "name": "python"
    }
  },
  "nbformat": 4,
  "nbformat_minor": 0
}